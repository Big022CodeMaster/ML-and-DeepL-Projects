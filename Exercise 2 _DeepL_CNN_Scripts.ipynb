{
 "cells": [
  {
   "cell_type": "markdown",
   "metadata": {},
   "source": [
    "# Übung \n",
    "\n",
    "Build a model to predict Fashion MNIST using CNN\n",
    "- Preparation\n",
    "- Building\n",
    "- Training\n",
    "- Saving the model\n",
    "- Send the accuracy (train, val) via an E-Mail (without Standort, but prepare the solution or Test via Trainer PC)\n",
    "- Store the accuracy (train, val) into  SQLite DB / CSV (as exception)\n",
    "  - Date, Time, Trainig ID (PK), train_accuracy, validation_accuracy\n",
    "\n",
    "Delivery as \n",
    "1. Python Application (Functional or OOP)\n",
    "\n",
    "\n",
    "**FOCUS on working application first of all, then optimize it and make it pretty**"
   ]
  },
  {
   "cell_type": "markdown",
   "metadata": {},
   "source": [
    "# Dataset locally (Proxy)\n",
    "\n",
    "For the dataset (locally)\n",
    "1. Download the dataset manually from : https://github.com/zalandoresearch/fashion-mnist/tree/master/data/fashion\n",
    "2. Create Folder Called **datasets\\fashion-mnist** under C:\\Users\\Administrator\\.keras\\\n",
    "   So you will have C:\\Users\\Administrator\\\\.keras\\datasets\\fashion-mnist\n",
    "\n",
    "3. Copy the 4x Downloaded files into the created folder"
   ]
  },
  {
   "cell_type": "code",
   "execution_count": 78,
   "metadata": {},
   "outputs": [],
   "source": [
    "import tensorflow as tf\n",
    "from tensorflow.keras import datasets, layers, models\n",
    "import matplotlib.pyplot as plt\n",
    "import numpy as np\n",
    "import seaborn as sns\n",
    "from tensorflow import keras\n",
    "import pandas as pd\n"
   ]
  },
  {
   "cell_type": "code",
   "execution_count": 79,
   "metadata": {},
   "outputs": [
    {
     "name": "stdout",
     "output_type": "stream",
     "text": [
      "(60000, 28, 28)\n",
      "(60000,)\n",
      "(10000, 28, 28)\n",
      "(10000,)\n"
     ]
    }
   ],
   "source": [
    "# Load the dataset\n",
    "\n",
    "(X_train, y_train), (X_test,y_test) = datasets.fashion_mnist.load_data()\n",
    "print(X_train.shape)\n",
    "print(y_train.shape)\n",
    "print(X_test.shape)\n",
    "print(y_test.shape)"
   ]
  },
  {
   "cell_type": "code",
   "execution_count": 80,
   "metadata": {},
   "outputs": [
    {
     "data": {
      "text/plain": [
       "array([9, 0, 0, 3, 0], dtype=uint8)"
      ]
     },
     "execution_count": 80,
     "metadata": {},
     "output_type": "execute_result"
    }
   ],
   "source": [
    "y_train[:5]"
   ]
  },
  {
   "cell_type": "code",
   "execution_count": 81,
   "metadata": {},
   "outputs": [
    {
     "data": {
      "text/plain": [
       "(28, 28)"
      ]
     },
     "execution_count": 81,
     "metadata": {},
     "output_type": "execute_result"
    }
   ],
   "source": [
    "X_train[0].shape"
   ]
  },
  {
   "cell_type": "code",
   "execution_count": 82,
   "metadata": {},
   "outputs": [],
   "source": [
    "# Normalizing the data\n",
    "\n",
    "X_train = X_train / 255.0\n",
    "X_test = X_test / 255.0"
   ]
  },
  {
   "cell_type": "code",
   "execution_count": 83,
   "metadata": {},
   "outputs": [
    {
     "data": {
      "text/plain": [
       "3"
      ]
     },
     "execution_count": 83,
     "metadata": {},
     "output_type": "execute_result"
    }
   ],
   "source": [
    "X_train.ndim"
   ]
  },
  {
   "cell_type": "markdown",
   "metadata": {},
   "source": [
    "# 1 Building ANN without hidden layers 'using reshape method in input layer'\n",
    " Traing the model without any hidden layer"
   ]
  },
  {
   "cell_type": "code",
   "execution_count": 84,
   "metadata": {},
   "outputs": [],
   "source": [
    "X_train_flattened = X_train.reshape(len(X_train), 28*28)\n",
    "X_test_flattened = X_test.reshape(len(X_test), 28*28)"
   ]
  },
  {
   "cell_type": "code",
   "execution_count": 85,
   "metadata": {},
   "outputs": [
    {
     "name": "stdout",
     "output_type": "stream",
     "text": [
      "Epoch 1/5\n",
      "1875/1875 [==============================] - 2s 994us/step - loss: 0.5988 - accuracy: 0.7991\n",
      "Epoch 2/5\n",
      "1875/1875 [==============================] - 2s 915us/step - loss: 0.4621 - accuracy: 0.8418\n",
      "Epoch 3/5\n",
      "1875/1875 [==============================] - 2s 885us/step - loss: 0.4362 - accuracy: 0.8499\n",
      "Epoch 4/5\n",
      "1875/1875 [==============================] - 2s 867us/step - loss: 0.4220 - accuracy: 0.8539\n",
      "Epoch 5/5\n",
      "1875/1875 [==============================] - 2s 869us/step - loss: 0.4129 - accuracy: 0.8577\n"
     ]
    },
    {
     "data": {
      "text/plain": [
       "<keras.callbacks.History at 0x2199c63baf0>"
      ]
     },
     "execution_count": 85,
     "metadata": {},
     "output_type": "execute_result"
    }
   ],
   "source": [
    "model = keras.Sequential([\n",
    "    keras.layers.Dense(10, input_shape=(784,), activation='sigmoid')\n",
    "])\n",
    "\n",
    "model.compile(optimizer='adam',\n",
    "              loss='sparse_categorical_crossentropy',\n",
    "              metrics=['accuracy'])\n",
    "\n",
    "model.fit(X_train_flattened, y_train, epochs=5)"
   ]
  },
  {
   "cell_type": "code",
   "execution_count": 86,
   "metadata": {},
   "outputs": [
    {
     "name": "stdout",
     "output_type": "stream",
     "text": [
      "313/313 [==============================] - 0s 750us/step - loss: 0.4552 - accuracy: 0.8412\n"
     ]
    },
    {
     "data": {
      "text/plain": [
       "[0.45522618293762207, 0.8411999940872192]"
      ]
     },
     "execution_count": 86,
     "metadata": {},
     "output_type": "execute_result"
    }
   ],
   "source": [
    "model.evaluate(X_test_flattened, y_test)"
   ]
  },
  {
   "cell_type": "code",
   "execution_count": 87,
   "metadata": {},
   "outputs": [
    {
     "name": "stdout",
     "output_type": "stream",
     "text": [
      "313/313 [==============================] - 0s 946us/step\n"
     ]
    }
   ],
   "source": [
    "y_predicted = model.predict(X_test_flattened)"
   ]
  },
  {
   "cell_type": "code",
   "execution_count": 88,
   "metadata": {},
   "outputs": [],
   "source": [
    "y_predicted_labels = [np.argmax(i) for i in y_predicted]"
   ]
  },
  {
   "cell_type": "code",
   "execution_count": 89,
   "metadata": {},
   "outputs": [
    {
     "data": {
      "text/plain": [
       "[9, 2, 1, 1, 6]"
      ]
     },
     "execution_count": 89,
     "metadata": {},
     "output_type": "execute_result"
    }
   ],
   "source": [
    "y_predicted_labels[:5]"
   ]
  },
  {
   "cell_type": "code",
   "execution_count": 90,
   "metadata": {},
   "outputs": [
    {
     "data": {
      "text/plain": [
       "<tf.Tensor: shape=(10, 10), dtype=int32, numpy=\n",
       "array([[866,   3,  16,  34,   6,   0,  56,   0,  19,   0],\n",
       "       [  6, 960,   5,  20,   5,   0,   2,   0,   2,   0],\n",
       "       [ 22,   7, 761,   7, 146,   1,  45,   0,  11,   0],\n",
       "       [ 48,  18,  19, 842,  36,   0,  31,   0,   6,   0],\n",
       "       [  0,   2, 117,  32, 793,   0,  47,   0,   9,   0],\n",
       "       [  0,   0,   0,   1,   0, 906,   0,  57,   6,  30],\n",
       "       [187,   3, 159,  28, 150,   0, 439,   0,  34,   0],\n",
       "       [  0,   0,   0,   0,   0,  27,   0, 923,   0,  50],\n",
       "       [  5,   1,   7,   9,   2,   3,   9,   4, 960,   0],\n",
       "       [  0,   0,   0,   0,   0,   7,   1,  29,   1, 962]])>"
      ]
     },
     "execution_count": 90,
     "metadata": {},
     "output_type": "execute_result"
    }
   ],
   "source": [
    "# creating confusion matriy\n",
    "cm = tf.math.confusion_matrix(labels=y_test,predictions=y_predicted_labels)\n",
    "cm"
   ]
  },
  {
   "cell_type": "code",
   "execution_count": 91,
   "metadata": {},
   "outputs": [
    {
     "data": {
      "text/plain": [
       "Text(69.0, 0.5, 'Truth')"
      ]
     },
     "execution_count": 91,
     "metadata": {},
     "output_type": "execute_result"
    },
    {
     "data": {
      "image/png": "[encoded data removed]",
      "text/plain": [
       "<Figure size 720x504 with 2 Axes>"
      ]
     },
     "metadata": {
      "needs_background": "light"
     },
     "output_type": "display_data"
    }
   ],
   "source": [
    "import seaborn as sn\n",
    "plt.figure(figsize = (10,7))\n",
    "sn.heatmap(cm, annot=True, fmt='d')\n",
    "plt.xlabel('Predicted')\n",
    "plt.ylabel('Truth')"
   ]
  },
  {
   "cell_type": "markdown",
   "metadata": {},
   "source": [
    "# 2 Using Hidden layer to compare above results"
   ]
  },
  {
   "cell_type": "code",
   "execution_count": 92,
   "metadata": {},
   "outputs": [
    {
     "name": "stdout",
     "output_type": "stream",
     "text": [
      "Epoch 1/5\n",
      "1875/1875 [==============================] - 3s 1ms/step - loss: 0.5060 - accuracy: 0.8226\n",
      "Epoch 2/5\n",
      "1875/1875 [==============================] - 2s 1ms/step - loss: 0.3800 - accuracy: 0.8628\n",
      "Epoch 3/5\n",
      "1875/1875 [==============================] - 2s 1ms/step - loss: 0.3389 - accuracy: 0.8763\n",
      "Epoch 4/5\n",
      "1875/1875 [==============================] - 2s 1ms/step - loss: 0.3155 - accuracy: 0.8838\n",
      "Epoch 5/5\n",
      "1875/1875 [==============================] - 2s 1ms/step - loss: 0.2972 - accuracy: 0.8901\n"
     ]
    },
    {
     "data": {
      "text/plain": [
       "<keras.callbacks.History at 0x2198b806800>"
      ]
     },
     "execution_count": 92,
     "metadata": {},
     "output_type": "execute_result"
    }
   ],
   "source": [
    "model = keras.Sequential([\n",
    "    keras.layers.Dense(100, input_shape=(784,), activation='relu'),\n",
    "    keras.layers.Dense(10, activation='sigmoid')\n",
    "])\n",
    "\n",
    "model.compile(optimizer='adam',\n",
    "              loss='sparse_categorical_crossentropy',\n",
    "              metrics=['accuracy'])\n",
    "\n",
    "model.fit(X_train_flattened, y_train, epochs=5)"
   ]
  },
  {
   "cell_type": "code",
   "execution_count": 93,
   "metadata": {},
   "outputs": [
    {
     "name": "stdout",
     "output_type": "stream",
     "text": [
      "313/313 [==============================] - 0s 1ms/step - loss: 0.3695 - accuracy: 0.8686\n"
     ]
    },
    {
     "data": {
      "text/plain": [
       "[0.36946403980255127, 0.8686000108718872]"
      ]
     },
     "execution_count": 93,
     "metadata": {},
     "output_type": "execute_result"
    }
   ],
   "source": [
    "model.evaluate(X_test_flattened,y_test)"
   ]
  },
  {
   "cell_type": "code",
   "execution_count": 94,
   "metadata": {},
   "outputs": [
    {
     "name": "stdout",
     "output_type": "stream",
     "text": [
      "313/313 [==============================] - 0s 894us/step\n"
     ]
    },
    {
     "data": {
      "text/plain": [
       "Text(69.0, 0.5, 'Truth')"
      ]
     },
     "execution_count": 94,
     "metadata": {},
     "output_type": "execute_result"
    },
    {
     "data": {
      "image/png": "[encoded data removed]",
      "text/plain": [
       "<Figure size 720x504 with 2 Axes>"
      ]
     },
     "metadata": {
      "needs_background": "light"
     },
     "output_type": "display_data"
    }
   ],
   "source": [
    "y_predicted = model.predict(X_test_flattened)\n",
    "y_predicted_labels = [np.argmax(i) for i in y_predicted]\n",
    "cm = tf.math.confusion_matrix(labels=y_test,predictions=y_predicted_labels)\n",
    "\n",
    "plt.figure(figsize = (10,7))\n",
    "sn.heatmap(cm, annot=True, fmt='d')\n",
    "plt.xlabel('Predicted')\n",
    "plt.ylabel('Truth')\n",
    "\n",
    "# We can see much improvements using hidden layer in our model."
   ]
  },
  {
   "cell_type": "markdown",
   "metadata": {},
   "source": [
    "\n",
    "# 3 Using Flattern method  so that we dont have to call .reshape on input data, just another way of training model"
   ]
  },
  {
   "cell_type": "code",
   "execution_count": 95,
   "metadata": {},
   "outputs": [
    {
     "name": "stdout",
     "output_type": "stream",
     "text": [
      "Epoch 1/3\n",
      "1875/1875 [==============================] - 4s 2ms/step - loss: 0.7011 - accuracy: 0.7639\n",
      "Epoch 2/3\n",
      "1875/1875 [==============================] - 3s 2ms/step - loss: 0.4771 - accuracy: 0.8328\n",
      "Epoch 3/3\n",
      "1875/1875 [==============================] - 3s 2ms/step - loss: 0.4323 - accuracy: 0.8481\n"
     ]
    },
    {
     "data": {
      "text/plain": [
       "<keras.callbacks.History at 0x2198bb0e470>"
      ]
     },
     "execution_count": 95,
     "metadata": {},
     "output_type": "execute_result"
    }
   ],
   "source": [
    "ann = models.Sequential([\n",
    "        layers.Flatten(input_shape=(28,28)),\n",
    "        layers.Dense(300, activation='relu'),\n",
    "        layers.Dense(100, activation='relu'),\n",
    "        layers.Dense(10, activation='softmax')    \n",
    "    ])\n",
    "\n",
    "ann.compile(optimizer='SGD',\n",
    "              loss='sparse_categorical_crossentropy',\n",
    "              metrics=['accuracy'])\n",
    "\n",
    "ann.fit(X_train, y_train, epochs=3)\n",
    "\n",
    "# Here i used just 3 epoch just to make computatin faster but using more epoch will increase the accuracy and minimize the loss percentage"
   ]
  },
  {
   "cell_type": "code",
   "execution_count": 96,
   "metadata": {},
   "outputs": [
    {
     "name": "stdout",
     "output_type": "stream",
     "text": [
      "313/313 [==============================] - 2s 1ms/step - loss: 0.4512 - accuracy: 0.8393\n"
     ]
    },
    {
     "data": {
      "text/plain": [
       "[0.4512467682361603, 0.8392999768257141]"
      ]
     },
     "execution_count": 96,
     "metadata": {},
     "output_type": "execute_result"
    }
   ],
   "source": [
    "ann.evaluate(X_test,y_test)\n",
    "\n"
   ]
  },
  {
   "cell_type": "code",
   "execution_count": 97,
   "metadata": {},
   "outputs": [
    {
     "name": "stdout",
     "output_type": "stream",
     "text": [
      "313/313 [==============================] - 1s 1ms/step\n"
     ]
    },
    {
     "data": {
      "text/plain": [
       "Text(69.0, 0.5, 'Truth')"
      ]
     },
     "execution_count": 97,
     "metadata": {},
     "output_type": "execute_result"
    },
    {
     "data": {
      "image/png": "[encoded data removed]",
      "text/plain": [
       "<Figure size 720x504 with 2 Axes>"
      ]
     },
     "metadata": {
      "needs_background": "light"
     },
     "output_type": "display_data"
    }
   ],
   "source": [
    "y_predicted2=ann.predict(X_test)\n",
    "y_predicted_labels2= [np.argmax(i) for i in y_predicted2]\n",
    "\n",
    "cm = tf.math.confusion_matrix(labels=y_test,predictions=y_predicted_labels2)\n",
    "\n",
    "# creating confusion matriy heat max to demonstrate true y_test values vs predicted X_test values from the trained model.\n",
    "\n",
    "plt.figure(figsize = (10,7))\n",
    "sn.heatmap(cm, annot=True, fmt='d')\n",
    "plt.xlabel('Predicted')\n",
    "plt.ylabel('Truth')"
   ]
  },
  {
   "cell_type": "code",
   "execution_count": 106,
   "metadata": {},
   "outputs": [
    {
     "name": "stdout",
     "output_type": "stream",
     "text": [
      "              precision    recall  f1-score   support\n",
      "\n",
      "           0       0.73      0.86      0.79      1000\n",
      "           1       0.97      0.96      0.97      1000\n",
      "           2       0.79      0.66      0.72      1000\n",
      "           3       0.84      0.87      0.85      1000\n",
      "           4       0.68      0.83      0.75      1000\n",
      "           5       0.94      0.91      0.93      1000\n",
      "           6       0.70      0.46      0.55      1000\n",
      "           7       0.90      0.93      0.91      1000\n",
      "           8       0.91      0.97      0.94      1000\n",
      "           9       0.93      0.94      0.94      1000\n",
      "\n",
      "    accuracy                           0.84     10000\n",
      "   macro avg       0.84      0.84      0.83     10000\n",
      "weighted avg       0.84      0.84      0.83     10000\n",
      "\n"
     ]
    }
   ],
   "source": [
    "from sklearn.metrics import confusion_matrix , classification_report\n",
    "print(classification_report(y_test, y_predicted_labels2))"
   ]
  },
  {
   "cell_type": "markdown",
   "metadata": {},
   "source": [
    "# 4  Now we will use CNN(Convolutional Neural Network ) to train the fashion mnist data "
   ]
  },
  {
   "cell_type": "code",
   "execution_count": 107,
   "metadata": {},
   "outputs": [],
   "source": [
    "cnn = models.Sequential([\n",
    "    layers.Conv2D(filters=28, kernel_size=(3, 3), activation='relu', input_shape=(28,28,1)),\n",
    "    layers.MaxPooling2D((2, 2)),\n",
    "    \n",
    "    layers.Conv2D(filters=44, kernel_size=(3, 3), activation='relu'),\n",
    "    layers.MaxPooling2D((2, 2)),\n",
    "    \n",
    "    layers.Flatten(),\n",
    "    layers.Dense(64, activation='relu'),\n",
    "    layers.Dropout(0.5),                             # using also droupout layer\n",
    "    layers.Dense(10, activation='softmax')\n",
    "])"
   ]
  },
  {
   "cell_type": "code",
   "execution_count": 123,
   "metadata": {},
   "outputs": [
    {
     "name": "stdout",
     "output_type": "stream",
     "text": [
      "Model: \"sequential_15\"\n",
      "_________________________________________________________________\n",
      " Layer (type)                Output Shape              Param #   \n",
      "=================================================================\n",
      " conv2d_18 (Conv2D)          (None, 26, 26, 28)        280       \n",
      "                                                                 \n",
      " max_pooling2d_18 (MaxPoolin  (None, 13, 13, 28)       0         \n",
      " g2D)                                                            \n",
      "                                                                 \n",
      " conv2d_19 (Conv2D)          (None, 11, 11, 44)        11132     \n",
      "                                                                 \n",
      " max_pooling2d_19 (MaxPoolin  (None, 5, 5, 44)         0         \n",
      " g2D)                                                            \n",
      "                                                                 \n",
      " flatten_11 (Flatten)        (None, 1100)              0         \n",
      "                                                                 \n",
      " dense_30 (Dense)            (None, 64)                70464     \n",
      "                                                                 \n",
      " dropout_7 (Dropout)         (None, 64)                0         \n",
      "                                                                 \n",
      " dense_31 (Dense)            (None, 10)                650       \n",
      "                                                                 \n",
      "=================================================================\n",
      "Total params: 82,526\n",
      "Trainable params: 82,526\n",
      "Non-trainable params: 0\n",
      "_________________________________________________________________\n"
     ]
    }
   ],
   "source": [
    "cnn.summary()  # Getting the summary of CNn2d and different hidden layers and other important information."
   ]
  },
  {
   "cell_type": "code",
   "execution_count": 108,
   "metadata": {},
   "outputs": [],
   "source": [
    "cnn.compile(optimizer='adam',\n",
    "              loss='sparse_categorical_crossentropy',\n",
    "              metrics=['accuracy'])"
   ]
  },
  {
   "cell_type": "code",
   "execution_count": 109,
   "metadata": {},
   "outputs": [
    {
     "name": "stdout",
     "output_type": "stream",
     "text": [
      "Epoch 1/10\n",
      "422/422 [==============================] - 26s 60ms/step - loss: 0.8038 - accuracy: 0.7154 - val_loss: 0.4485 - val_accuracy: 0.8358\n",
      "Epoch 2/10\n",
      "422/422 [==============================] - 24s 57ms/step - loss: 0.5093 - accuracy: 0.8189 - val_loss: 0.3760 - val_accuracy: 0.8610\n",
      "Epoch 3/10\n",
      "422/422 [==============================] - 25s 60ms/step - loss: 0.4495 - accuracy: 0.8417 - val_loss: 0.3438 - val_accuracy: 0.8715\n",
      "Epoch 4/10\n",
      "422/422 [==============================] - 25s 58ms/step - loss: 0.4125 - accuracy: 0.8549 - val_loss: 0.3218 - val_accuracy: 0.8797\n",
      "Epoch 5/10\n",
      "422/422 [==============================] - 24s 58ms/step - loss: 0.3897 - accuracy: 0.8624 - val_loss: 0.3028 - val_accuracy: 0.8842\n",
      "Epoch 6/10\n",
      "422/422 [==============================] - 25s 59ms/step - loss: 0.3698 - accuracy: 0.8689 - val_loss: 0.2923 - val_accuracy: 0.8905\n",
      "Epoch 7/10\n",
      "422/422 [==============================] - 25s 59ms/step - loss: 0.3558 - accuracy: 0.8745 - val_loss: 0.2828 - val_accuracy: 0.8963\n",
      "Epoch 8/10\n",
      "422/422 [==============================] - 25s 59ms/step - loss: 0.3430 - accuracy: 0.8783 - val_loss: 0.2826 - val_accuracy: 0.8922\n",
      "Epoch 9/10\n",
      "422/422 [==============================] - 26s 61ms/step - loss: 0.3270 - accuracy: 0.8824 - val_loss: 0.2760 - val_accuracy: 0.8938\n",
      "Epoch 10/10\n",
      "422/422 [==============================] - 25s 59ms/step - loss: 0.3151 - accuracy: 0.8870 - val_loss: 0.2749 - val_accuracy: 0.8965\n"
     ]
    }
   ],
   "source": [
    "history=cnn.fit(X_train, y_train, epochs=10, batch_size=128, validation_split= 0.1)"
   ]
  },
  {
   "cell_type": "markdown",
   "metadata": {},
   "source": [
    "With CNN, at the end 5 epochs, accuracy was at around 90% which is a significant improvement over ANN. CNN's are best for image classification and gives superb accuracy. Also computation is much less compared to simple ANN as maxpooling reduces the image dimensions while still preserving the features"
   ]
  },
  {
   "cell_type": "code",
   "execution_count": 110,
   "metadata": {},
   "outputs": [
    {
     "name": "stdout",
     "output_type": "stream",
     "text": [
      "313/313 [==============================] - 1s 4ms/step - loss: 0.2923 - accuracy: 0.8958\n"
     ]
    },
    {
     "data": {
      "text/plain": [
       "[0.29231080412864685, 0.895799994468689]"
      ]
     },
     "execution_count": 110,
     "metadata": {},
     "output_type": "execute_result"
    }
   ],
   "source": [
    "cnn.evaluate(X_test,y_test)"
   ]
  },
  {
   "cell_type": "code",
   "execution_count": 117,
   "metadata": {},
   "outputs": [
    {
     "name": "stdout",
     "output_type": "stream",
     "text": [
      "313/313 [==============================] - 2s 5ms/step\n"
     ]
    },
    {
     "data": {
      "text/plain": [
       "array([[3.0174990e-10, 3.4812277e-12, 1.0572328e-11, 1.6899408e-10,\n",
       "        5.6403823e-12, 1.4728941e-04, 1.0200646e-10, 1.2704389e-03,\n",
       "        3.0327460e-08, 9.9858224e-01],\n",
       "       [3.0528299e-06, 2.0683767e-13, 9.9946445e-01, 1.7364515e-08,\n",
       "        1.1800042e-04, 5.7731479e-16, 4.1456128e-04, 1.4243426e-19,\n",
       "        2.3624942e-09, 4.4802287e-15],\n",
       "       [1.1662317e-08, 1.0000000e+00, 1.7194267e-10, 4.5170170e-09,\n",
       "        6.7074540e-11, 3.2482250e-14, 2.2067224e-10, 1.7682175e-17,\n",
       "        2.5263935e-10, 1.4848081e-17],\n",
       "       [1.2681457e-09, 1.0000000e+00, 2.0105730e-11, 1.8768352e-08,\n",
       "        5.3365651e-10, 4.3043399e-14, 3.5939701e-10, 1.1410984e-17,\n",
       "        2.5946034e-12, 3.9307346e-18],\n",
       "       [4.9810447e-02, 2.9255202e-06, 3.8060907e-02, 1.1348918e-02,\n",
       "        5.0708428e-02, 3.2866126e-05, 8.4981924e-01, 2.0911330e-07,\n",
       "        1.9472266e-04, 2.1371288e-05]], dtype=float32)"
      ]
     },
     "execution_count": 117,
     "metadata": {},
     "output_type": "execute_result"
    }
   ],
   "source": [
    "y_pred_cnn = cnn.predict(X_test)\n",
    "y_pred_cnn[:5]"
   ]
  },
  {
   "cell_type": "code",
   "execution_count": 118,
   "metadata": {},
   "outputs": [
    {
     "data": {
      "text/plain": [
       "[9, 2, 1, 1, 6]"
      ]
     },
     "execution_count": 118,
     "metadata": {},
     "output_type": "execute_result"
    }
   ],
   "source": [
    "y_classes = [np.argmax(element) for element in y_pred_cnn]\n",
    "y_classes[:5]"
   ]
  },
  {
   "cell_type": "code",
   "execution_count": 119,
   "metadata": {},
   "outputs": [
    {
     "data": {
      "text/plain": [
       "array([9, 2, 1, 1, 6], dtype=uint8)"
      ]
     },
     "execution_count": 119,
     "metadata": {},
     "output_type": "execute_result"
    }
   ],
   "source": [
    "y_test[:5]"
   ]
  },
  {
   "cell_type": "code",
   "execution_count": 120,
   "metadata": {},
   "outputs": [
    {
     "data": {
      "image/png": "[encoded data removed]",
      "text/plain": [
       "<Figure size 432x288 with 1 Axes>"
      ]
     },
     "metadata": {
      "needs_background": "light"
     },
     "output_type": "display_data"
    }
   ],
   "source": [
    "# Plotting the accuracy (validiation accuracy vs train accuracy)\n",
    "\n",
    "plt.plot(history.history[\"accuracy\"])\n",
    "plt.plot(history.history[\"val_accuracy\"])\n",
    "plt.legend([\"Training_acc\", \"Valication_acc\"])\n",
    "plt.xlabel(\"Epochs\")\n",
    "plt.ylabel(\"Accuracy\")\n",
    "plt.show()"
   ]
  },
  {
   "cell_type": "code",
   "execution_count": 121,
   "metadata": {},
   "outputs": [
    {
     "name": "stdout",
     "output_type": "stream",
     "text": [
      "Classification Report: \n",
      "               precision    recall  f1-score   support\n",
      "\n",
      "           0       0.82      0.87      0.85      1000\n",
      "           1       1.00      0.96      0.98      1000\n",
      "           2       0.82      0.87      0.85      1000\n",
      "           3       0.88      0.91      0.89      1000\n",
      "           4       0.80      0.87      0.83      1000\n",
      "           5       0.99      0.96      0.98      1000\n",
      "           6       0.78      0.59      0.67      1000\n",
      "           7       0.93      0.98      0.95      1000\n",
      "           8       0.96      0.98      0.97      1000\n",
      "           9       0.98      0.95      0.96      1000\n",
      "\n",
      "    accuracy                           0.90     10000\n",
      "   macro avg       0.90      0.90      0.89     10000\n",
      "weighted avg       0.90      0.90      0.89     10000\n",
      "\n"
     ]
    }
   ],
   "source": [
    "# printing the classification report.\n",
    "\n",
    "print(\"Classification Report: \\n\", classification_report(y_test, y_classes))"
   ]
  },
  {
   "cell_type": "code",
   "execution_count": 122,
   "metadata": {},
   "outputs": [
    {
     "data": {
      "text/plain": [
       "Text(69.0, 0.5, 'Truth')"
      ]
     },
     "execution_count": 122,
     "metadata": {},
     "output_type": "execute_result"
    },
    {
     "data": {
      "image/png": "[encoded data removed]",
      "text/plain": [
       "<Figure size 720x504 with 2 Axes>"
      ]
     },
     "metadata": {
      "needs_background": "light"
     },
     "output_type": "display_data"
    }
   ],
   "source": [
    "cm = tf.math.confusion_matrix(labels=y_test,predictions=y_classes)\n",
    "\n",
    "# creating confusion matriy heat max to demonstrate true y_test values vs predicted X_test values from the trained model.\n",
    "\n",
    "plt.figure(figsize = (10,7))\n",
    "sn.heatmap(cm, annot=True, fmt='d')\n",
    "plt.xlabel('Predicted')\n",
    "plt.ylabel('Truth')\n",
    "\n",
    "\n",
    "# We can see that our confusion matriy looks much better with CNN ."
   ]
  },
  {
   "cell_type": "markdown",
   "metadata": {},
   "source": [
    "# saving the Model"
   ]
  },
  {
   "cell_type": "code",
   "execution_count": 124,
   "metadata": {},
   "outputs": [],
   "source": [
    "# saving the whole model of CNN\n",
    "cnn.save(\"./models/fashion_mnist_1.h5\")\n",
    "\n",
    "# saving only weights\n",
    "cnn.save_weights(\"./models/fashion_mnist_1_weights.h5\")"
   ]
  },
  {
   "cell_type": "code",
   "execution_count": 126,
   "metadata": {},
   "outputs": [
    {
     "name": "stdout",
     "output_type": "stream",
     "text": [
      "Model: \"sequential_15\"\n",
      "_________________________________________________________________\n",
      " Layer (type)                Output Shape              Param #   \n",
      "=================================================================\n",
      " conv2d_18 (Conv2D)          (None, 26, 26, 28)        280       \n",
      "                                                                 \n",
      " max_pooling2d_18 (MaxPoolin  (None, 13, 13, 28)       0         \n",
      " g2D)                                                            \n",
      "                                                                 \n",
      " conv2d_19 (Conv2D)          (None, 11, 11, 44)        11132     \n",
      "                                                                 \n",
      " max_pooling2d_19 (MaxPoolin  (None, 5, 5, 44)         0         \n",
      " g2D)                                                            \n",
      "                                                                 \n",
      " flatten_11 (Flatten)        (None, 1100)              0         \n",
      "                                                                 \n",
      " dense_30 (Dense)            (None, 64)                70464     \n",
      "                                                                 \n",
      " dropout_7 (Dropout)         (None, 64)                0         \n",
      "                                                                 \n",
      " dense_31 (Dense)            (None, 10)                650       \n",
      "                                                                 \n",
      "=================================================================\n",
      "Total params: 82,526\n",
      "Trainable params: 82,526\n",
      "Non-trainable params: 0\n",
      "_________________________________________________________________\n"
     ]
    }
   ],
   "source": [
    "# Load the model\n",
    "\n",
    "from tensorflow.keras.models import load_model\n",
    "\n",
    "new_model = load_model(\"./models/fashion_mnist_1.h5\")\n",
    "\n",
    "new_model.summary()\n",
    "\n",
    "#new_model.get_weights()"
   ]
  },
  {
   "cell_type": "code",
   "execution_count": null,
   "metadata": {},
   "outputs": [],
   "source": [
    "# # Load Weights\n",
    "\n",
    "# model_2 = models.Sequential(                                            # This configuration  has to match the exact model weights which we are loading.\n",
    "#     [\n",
    "#         layers.Dense(512, activation=\"sigmoid\", input_shape=(784,)),\n",
    "#         layers.Dense(10, activation=\"sigmoid\")\n",
    "#     ]\n",
    "# )\n",
    "\n",
    "\n",
    "# model_2.load_weights(\"./models/fashion_mnist_1_weights.h5\")\n",
    "\n",
    "# model_2.get_weights()"
   ]
  }
 ],
 "metadata": {
  "kernelspec": {
   "display_name": "Python 3.10.4 64-bit",
   "language": "python",
   "name": "python3"
  },
  "language_info": {
   "codemirror_mode": {
    "name": "ipython",
    "version": 3
   },
   "file_extension": ".py",
   "mimetype": "text/x-python",
   "name": "python",
   "nbconvert_exporter": "python",
   "pygments_lexer": "ipython3",
   "version": "3.10.4"
  },
  "orig_nbformat": 4,
  "vscode": {
   "interpreter": {
    "hash": "0986a705e0e9c41aedb0cb54b09a403593fe0a5bc8bc18fb428b786d741665bc"
   }
  }
 },
 "nbformat": 4,
 "nbformat_minor": 2
}
